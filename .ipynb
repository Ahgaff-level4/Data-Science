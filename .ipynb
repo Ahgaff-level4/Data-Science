{
 "cells": [
  {
   "attachments": {},
   "cell_type": "markdown",
   "metadata": {},
   "source": [
    "## Global Annual Population Growth (1951 - 2020)\n",
    "\n",
    "### About Dataset\n",
    "\n",
    "The dataset contains the total population and urban population for each year (1951 - 2020) as well as the population growth rate as a percentage. The dataset can be used to study population trends and understand how the global population has changed over time.\n",
    "\n",
    "### Tabular data includes:\n",
    "\n",
    "    year\n",
    "    population\n",
    "    yearly_growth_percentage\n",
    "    yearly_growth\n",
    "    pop_density_km2\n",
    "    urban_population\n",
    "    urban_population_percentage\n"
   ]
  },
  {
   "attachments": {},
   "cell_type": "markdown",
   "metadata": {},
   "source": [
    "### Import Libraries"
   ]
  },
  {
   "cell_type": "code",
   "execution_count": 120,
   "metadata": {},
   "outputs": [],
   "source": [
    "import pandas as pd\n",
    "import numpy as np\n",
    "import matplotlib.pyplot as plt\n",
    "from sklearn import linear_model\n",
    "from sklearn import preprocessing\n",
    "from sklearn.model_selection import train_test_split\n",
    "from sklearn.linear_model import LinearRegression"
   ]
  },
  {
   "attachments": {},
   "cell_type": "markdown",
   "metadata": {},
   "source": [
    "### Data Frame"
   ]
  },
  {
   "cell_type": "code",
   "execution_count": 121,
   "metadata": {
    "dotnet_interactive": {
     "language": "csharp"
    }
   },
   "outputs": [
    {
     "data": {
      "text/html": [
       "<div>\n",
       "<style scoped>\n",
       "    .dataframe tbody tr th:only-of-type {\n",
       "        vertical-align: middle;\n",
       "    }\n",
       "\n",
       "    .dataframe tbody tr th {\n",
       "        vertical-align: top;\n",
       "    }\n",
       "\n",
       "    .dataframe thead th {\n",
       "        text-align: right;\n",
       "    }\n",
       "</style>\n",
       "<table border=\"1\" class=\"dataframe\">\n",
       "  <thead>\n",
       "    <tr style=\"text-align: right;\">\n",
       "      <th></th>\n",
       "      <th>year</th>\n",
       "      <th>population</th>\n",
       "      <th>yearly_growth_percentage</th>\n",
       "      <th>yearly_growth</th>\n",
       "      <th>pop_density_km2</th>\n",
       "      <th>urban_population</th>\n",
       "      <th>urban_population_percentage</th>\n",
       "    </tr>\n",
       "  </thead>\n",
       "  <tbody>\n",
       "    <tr>\n",
       "      <th>42</th>\n",
       "      <td>1993</td>\n",
       "      <td>5581597546</td>\n",
       "      <td>1.50%</td>\n",
       "      <td>82677737</td>\n",
       "      <td>37</td>\n",
       "      <td>2461223528</td>\n",
       "      <td>44%</td>\n",
       "    </tr>\n",
       "    <tr>\n",
       "      <th>26</th>\n",
       "      <td>1977</td>\n",
       "      <td>4229506060</td>\n",
       "      <td>1.80%</td>\n",
       "      <td>74839196</td>\n",
       "      <td>28</td>\n",
       "      <td>1616419308</td>\n",
       "      <td>38%</td>\n",
       "    </tr>\n",
       "    <tr>\n",
       "      <th>31</th>\n",
       "      <td>1982</td>\n",
       "      <td>4617386542</td>\n",
       "      <td>1.77%</td>\n",
       "      <td>80389780</td>\n",
       "      <td>31</td>\n",
       "      <td>1854134229</td>\n",
       "      <td>40%</td>\n",
       "    </tr>\n",
       "    <tr>\n",
       "      <th>57</th>\n",
       "      <td>2008</td>\n",
       "      <td>6789089000</td>\n",
       "      <td>1.24%</td>\n",
       "      <td>83142000</td>\n",
       "      <td>46</td>\n",
       "      <td>3439719000</td>\n",
       "      <td>50%</td>\n",
       "    </tr>\n",
       "    <tr>\n",
       "      <th>1</th>\n",
       "      <td>1952</td>\n",
       "      <td>2630861562</td>\n",
       "      <td>1.81%</td>\n",
       "      <td>46827301</td>\n",
       "      <td>18</td>\n",
       "      <td>799282533</td>\n",
       "      <td>30%</td>\n",
       "    </tr>\n",
       "  </tbody>\n",
       "</table>\n",
       "</div>"
      ],
      "text/plain": [
       "    year  population yearly_growth_percentage  yearly_growth  pop_density_km2  \\\n",
       "42  1993  5581597546                    1.50%       82677737               37   \n",
       "26  1977  4229506060                    1.80%       74839196               28   \n",
       "31  1982  4617386542                    1.77%       80389780               31   \n",
       "57  2008  6789089000                    1.24%       83142000               46   \n",
       "1   1952  2630861562                    1.81%       46827301               18   \n",
       "\n",
       "    urban_population urban_population_percentage  \n",
       "42        2461223528                         44%  \n",
       "26        1616419308                         38%  \n",
       "31        1854134229                         40%  \n",
       "57        3439719000                         50%  \n",
       "1          799282533                         30%  "
      ]
     },
     "execution_count": 121,
     "metadata": {},
     "output_type": "execute_result"
    }
   ],
   "source": [
    "df = pd.read_csv('world-population.csv')\n",
    "df.sample(5)"
   ]
  },
  {
   "attachments": {},
   "cell_type": "markdown",
   "metadata": {},
   "source": [
    "### Preprocessing"
   ]
  },
  {
   "cell_type": "code",
   "execution_count": 122,
   "metadata": {},
   "outputs": [
    {
     "name": "stdout",
     "output_type": "stream",
     "text": [
      "True    70\n",
      "Name: year, dtype: int64\n",
      "True    70\n",
      "Name: population, dtype: int64\n",
      "True    70\n",
      "Name: yearly_growth, dtype: int64\n",
      "False    70\n",
      "Name: yearly_growth_percentage, dtype: int64\n",
      "True    70\n",
      "Name: pop_density_km2, dtype: int64\n"
     ]
    }
   ],
   "source": [
    "# Find out the number of values which are not numeric\n",
    "print(df['year'].astype(str).str.isnumeric().value_counts())\n",
    "print(df['population'].astype(str).str.isnumeric().value_counts())\n",
    "print(df['yearly_growth'].astype(str).str.isnumeric().value_counts())\n",
    "print(df['yearly_growth_percentage'].astype(str).str.isnumeric().value_counts())\n",
    "print(df['pop_density_km2'].astype(str).str.isnumeric().value_counts())"
   ]
  },
  {
   "cell_type": "code",
   "execution_count": 123,
   "metadata": {},
   "outputs": [
    {
     "data": {
      "text/html": [
       "<div>\n",
       "<style scoped>\n",
       "    .dataframe tbody tr th:only-of-type {\n",
       "        vertical-align: middle;\n",
       "    }\n",
       "\n",
       "    .dataframe tbody tr th {\n",
       "        vertical-align: top;\n",
       "    }\n",
       "\n",
       "    .dataframe thead th {\n",
       "        text-align: right;\n",
       "    }\n",
       "</style>\n",
       "<table border=\"1\" class=\"dataframe\">\n",
       "  <thead>\n",
       "    <tr style=\"text-align: right;\">\n",
       "      <th></th>\n",
       "      <th>year</th>\n",
       "      <th>population</th>\n",
       "      <th>yearly_growth_percentage</th>\n",
       "      <th>yearly_growth</th>\n",
       "      <th>pop_density_km2</th>\n",
       "      <th>urban_population</th>\n",
       "      <th>urban_population_percentage</th>\n",
       "    </tr>\n",
       "  </thead>\n",
       "  <tbody>\n",
       "    <tr>\n",
       "      <th>0</th>\n",
       "      <td>1951</td>\n",
       "      <td>2584034261</td>\n",
       "      <td>0.0188</td>\n",
       "      <td>47603112</td>\n",
       "      <td>17</td>\n",
       "      <td>775067697</td>\n",
       "      <td>0.30</td>\n",
       "    </tr>\n",
       "    <tr>\n",
       "      <th>1</th>\n",
       "      <td>1952</td>\n",
       "      <td>2630861562</td>\n",
       "      <td>0.0181</td>\n",
       "      <td>46827301</td>\n",
       "      <td>18</td>\n",
       "      <td>799282533</td>\n",
       "      <td>0.30</td>\n",
       "    </tr>\n",
       "    <tr>\n",
       "      <th>2</th>\n",
       "      <td>1953</td>\n",
       "      <td>2677608960</td>\n",
       "      <td>0.0178</td>\n",
       "      <td>46747398</td>\n",
       "      <td>18</td>\n",
       "      <td>824289989</td>\n",
       "      <td>0.31</td>\n",
       "    </tr>\n",
       "    <tr>\n",
       "      <th>3</th>\n",
       "      <td>1954</td>\n",
       "      <td>2724846741</td>\n",
       "      <td>0.0176</td>\n",
       "      <td>47237781</td>\n",
       "      <td>18</td>\n",
       "      <td>850179106</td>\n",
       "      <td>0.31</td>\n",
       "    </tr>\n",
       "    <tr>\n",
       "      <th>4</th>\n",
       "      <td>1955</td>\n",
       "      <td>2773019936</td>\n",
       "      <td>0.0177</td>\n",
       "      <td>48173195</td>\n",
       "      <td>19</td>\n",
       "      <td>877008842</td>\n",
       "      <td>0.32</td>\n",
       "    </tr>\n",
       "    <tr>\n",
       "      <th>...</th>\n",
       "      <td>...</td>\n",
       "      <td>...</td>\n",
       "      <td>...</td>\n",
       "      <td>...</td>\n",
       "      <td>...</td>\n",
       "      <td>...</td>\n",
       "      <td>...</td>\n",
       "    </tr>\n",
       "    <tr>\n",
       "      <th>65</th>\n",
       "      <td>2016</td>\n",
       "      <td>7464022000</td>\n",
       "      <td>0.0114</td>\n",
       "      <td>84225000</td>\n",
       "      <td>50</td>\n",
       "      <td>4060653000</td>\n",
       "      <td>0.54</td>\n",
       "    </tr>\n",
       "    <tr>\n",
       "      <th>66</th>\n",
       "      <td>2017</td>\n",
       "      <td>7547859000</td>\n",
       "      <td>0.0112</td>\n",
       "      <td>83837000</td>\n",
       "      <td>51</td>\n",
       "      <td>4140189000</td>\n",
       "      <td>0.55</td>\n",
       "    </tr>\n",
       "    <tr>\n",
       "      <th>67</th>\n",
       "      <td>2018</td>\n",
       "      <td>7631091000</td>\n",
       "      <td>0.0110</td>\n",
       "      <td>83232000</td>\n",
       "      <td>51</td>\n",
       "      <td>4219817000</td>\n",
       "      <td>0.55</td>\n",
       "    </tr>\n",
       "    <tr>\n",
       "      <th>68</th>\n",
       "      <td>2019</td>\n",
       "      <td>7713468000</td>\n",
       "      <td>0.0108</td>\n",
       "      <td>82377000</td>\n",
       "      <td>52</td>\n",
       "      <td>4299439000</td>\n",
       "      <td>0.56</td>\n",
       "    </tr>\n",
       "    <tr>\n",
       "      <th>69</th>\n",
       "      <td>2020</td>\n",
       "      <td>7795000000</td>\n",
       "      <td>0.0105</td>\n",
       "      <td>81331000</td>\n",
       "      <td>52</td>\n",
       "      <td>4378900000</td>\n",
       "      <td>0.56</td>\n",
       "    </tr>\n",
       "  </tbody>\n",
       "</table>\n",
       "<p>70 rows × 7 columns</p>\n",
       "</div>"
      ],
      "text/plain": [
       "    year  population  yearly_growth_percentage  yearly_growth  \\\n",
       "0   1951  2584034261                    0.0188       47603112   \n",
       "1   1952  2630861562                    0.0181       46827301   \n",
       "2   1953  2677608960                    0.0178       46747398   \n",
       "3   1954  2724846741                    0.0176       47237781   \n",
       "4   1955  2773019936                    0.0177       48173195   \n",
       "..   ...         ...                       ...            ...   \n",
       "65  2016  7464022000                    0.0114       84225000   \n",
       "66  2017  7547859000                    0.0112       83837000   \n",
       "67  2018  7631091000                    0.0110       83232000   \n",
       "68  2019  7713468000                    0.0108       82377000   \n",
       "69  2020  7795000000                    0.0105       81331000   \n",
       "\n",
       "    pop_density_km2  urban_population  urban_population_percentage  \n",
       "0                17         775067697                         0.30  \n",
       "1                18         799282533                         0.30  \n",
       "2                18         824289989                         0.31  \n",
       "3                18         850179106                         0.31  \n",
       "4                19         877008842                         0.32  \n",
       "..              ...               ...                          ...  \n",
       "65               50        4060653000                         0.54  \n",
       "66               51        4140189000                         0.55  \n",
       "67               51        4219817000                         0.55  \n",
       "68               52        4299439000                         0.56  \n",
       "69               52        4378900000                         0.56  \n",
       "\n",
       "[70 rows x 7 columns]"
      ]
     },
     "execution_count": 123,
     "metadata": {},
     "output_type": "execute_result"
    }
   ],
   "source": [
    "#remove \"%\" to make convert to number\n",
    "def removePercentage(d):\n",
    "      return float(d[:-1])/100\n",
    "df['yearly_growth_percentage']= df['yearly_growth_percentage'].apply(removePercentage)\n",
    "df['urban_population_percentage']= df['urban_population_percentage'].apply(removePercentage)\n",
    "df"
   ]
  },
  {
   "attachments": {},
   "cell_type": "markdown",
   "metadata": {},
   "source": [
    "### Visualization"
   ]
  },
  {
   "cell_type": "code",
   "execution_count": null,
   "metadata": {},
   "outputs": [],
   "source": []
  },
  {
   "attachments": {},
   "cell_type": "markdown",
   "metadata": {},
   "source": [
    "### Descriptive Analytic"
   ]
  },
  {
   "cell_type": "code",
   "execution_count": 124,
   "metadata": {},
   "outputs": [
    {
     "data": {
      "text/plain": [
       "1.6164285714285715"
      ]
     },
     "execution_count": 124,
     "metadata": {},
     "output_type": "execute_result"
    }
   ],
   "source": [
    "#Population average growth over the years in percentage\n",
    "np.mean(df['yearly_growth_percentage'])*100"
   ]
  },
  {
   "attachments": {},
   "cell_type": "markdown",
   "metadata": {},
   "source": [
    "### Predict Analytic\n",
    "##### Why we use Linear Regression\n",
    "As the population of a country can take any values and not some selected discrete values we realize that this is a regression problem and not a classification problem. Linear Regression is one of the most basic algorithms of Machine Learning. This algorithm lets us predict numerical data. Hence we use Linear Regression to solve this problem."
   ]
  },
  {
   "attachments": {},
   "cell_type": "markdown",
   "metadata": {},
   "source": [
    "We normalize the data to scale. And to ease the prediction of growth rate with machine learning."
   ]
  },
  {
   "cell_type": "code",
   "execution_count": 125,
   "metadata": {},
   "outputs": [],
   "source": [
    "df = df.drop(['urban_population',\n",
    "            'urban_population_percentage',\n",
    "            'yearly_growth_percentage',\n",
    "            'yearly_growth'],axis=1)\n",
    "x = df.drop(['population'],axis=1)#get all columns except population\n",
    "y = df['population'].to_numpy()\n",
    "normalized_x = preprocessing.normalize(x)# scale X into values between 0 to 1 to have unit norm.\n",
    "x_train, x_test, y_train, y_test = train_test_split(normalized_x, y, test_size=0.3, random_state=101)"
   ]
  },
  {
   "attachments": {},
   "cell_type": "markdown",
   "metadata": {},
   "source": [
    "We create the model from the Linear regression library\n",
    "And fit (train) our test data into the model"
   ]
  },
  {
   "cell_type": "code",
   "execution_count": 126,
   "metadata": {},
   "outputs": [],
   "source": [
    "lm = LinearRegression()\n",
    "lm.fit(x_train,y_train)# train\n",
    "predictions = lm.predict(x_test)# predict"
   ]
  },
  {
   "attachments": {},
   "cell_type": "markdown",
   "metadata": {},
   "source": [
    "Now to see the accuracy of our model we will use the tools of Mean Squared Error and Mean Absolute Error."
   ]
  },
  {
   "cell_type": "code",
   "execution_count": 127,
   "metadata": {},
   "outputs": [
    {
     "ename": "ValueError",
     "evalue": "x and y must be the same size",
     "output_type": "error",
     "traceback": [
      "\u001b[1;31m---------------------------------------------------------------------------\u001b[0m",
      "\u001b[1;31mValueError\u001b[0m                                Traceback (most recent call last)",
      "\u001b[1;32md:\\AHK\\Universty\\Semester 4.1\\Data Scince\\project\\Data-Science\\Data-Science\\.ipynb Cell 19\u001b[0m in \u001b[0;36m<cell line: 1>\u001b[1;34m()\u001b[0m\n\u001b[1;32m----> <a href='vscode-notebook-cell:/d%3A/AHK/Universty/Semester%204.1/Data%20Scince/project/Data-Science/Data-Science/.ipynb#X34sZmlsZQ%3D%3D?line=0'>1</a>\u001b[0m plt\u001b[39m.\u001b[39;49mscatter(x_test,y_test,color\u001b[39m=\u001b[39;49m\u001b[39m'\u001b[39;49m\u001b[39mk\u001b[39;49m\u001b[39m'\u001b[39;49m)\n\u001b[0;32m      <a href='vscode-notebook-cell:/d%3A/AHK/Universty/Semester%204.1/Data%20Scince/project/Data-Science/Data-Science/.ipynb#X34sZmlsZQ%3D%3D?line=1'>2</a>\u001b[0m plt\u001b[39m.\u001b[39mplot(x_test,predictions,color\u001b[39m=\u001b[39m\u001b[39m'\u001b[39m\u001b[39mb\u001b[39m\u001b[39m'\u001b[39m)\n\u001b[0;32m      <a href='vscode-notebook-cell:/d%3A/AHK/Universty/Semester%204.1/Data%20Scince/project/Data-Science/Data-Science/.ipynb#X34sZmlsZQ%3D%3D?line=2'>3</a>\u001b[0m plt\u001b[39m.\u001b[39mshow()\n",
      "File \u001b[1;32mc:\\Users\\Ahmed\\anaconda3\\lib\\site-packages\\matplotlib\\pyplot.py:2807\u001b[0m, in \u001b[0;36mscatter\u001b[1;34m(x, y, s, c, marker, cmap, norm, vmin, vmax, alpha, linewidths, edgecolors, plotnonfinite, data, **kwargs)\u001b[0m\n\u001b[0;32m   2802\u001b[0m \u001b[39m@_copy_docstring_and_deprecators\u001b[39m(Axes\u001b[39m.\u001b[39mscatter)\n\u001b[0;32m   2803\u001b[0m \u001b[39mdef\u001b[39;00m \u001b[39mscatter\u001b[39m(\n\u001b[0;32m   2804\u001b[0m         x, y, s\u001b[39m=\u001b[39m\u001b[39mNone\u001b[39;00m, c\u001b[39m=\u001b[39m\u001b[39mNone\u001b[39;00m, marker\u001b[39m=\u001b[39m\u001b[39mNone\u001b[39;00m, cmap\u001b[39m=\u001b[39m\u001b[39mNone\u001b[39;00m, norm\u001b[39m=\u001b[39m\u001b[39mNone\u001b[39;00m,\n\u001b[0;32m   2805\u001b[0m         vmin\u001b[39m=\u001b[39m\u001b[39mNone\u001b[39;00m, vmax\u001b[39m=\u001b[39m\u001b[39mNone\u001b[39;00m, alpha\u001b[39m=\u001b[39m\u001b[39mNone\u001b[39;00m, linewidths\u001b[39m=\u001b[39m\u001b[39mNone\u001b[39;00m, \u001b[39m*\u001b[39m,\n\u001b[0;32m   2806\u001b[0m         edgecolors\u001b[39m=\u001b[39m\u001b[39mNone\u001b[39;00m, plotnonfinite\u001b[39m=\u001b[39m\u001b[39mFalse\u001b[39;00m, data\u001b[39m=\u001b[39m\u001b[39mNone\u001b[39;00m, \u001b[39m*\u001b[39m\u001b[39m*\u001b[39mkwargs):\n\u001b[1;32m-> 2807\u001b[0m     __ret \u001b[39m=\u001b[39m gca()\u001b[39m.\u001b[39mscatter(\n\u001b[0;32m   2808\u001b[0m         x, y, s\u001b[39m=\u001b[39ms, c\u001b[39m=\u001b[39mc, marker\u001b[39m=\u001b[39mmarker, cmap\u001b[39m=\u001b[39mcmap, norm\u001b[39m=\u001b[39mnorm,\n\u001b[0;32m   2809\u001b[0m         vmin\u001b[39m=\u001b[39mvmin, vmax\u001b[39m=\u001b[39mvmax, alpha\u001b[39m=\u001b[39malpha, linewidths\u001b[39m=\u001b[39mlinewidths,\n\u001b[0;32m   2810\u001b[0m         edgecolors\u001b[39m=\u001b[39medgecolors, plotnonfinite\u001b[39m=\u001b[39mplotnonfinite,\n\u001b[0;32m   2811\u001b[0m         \u001b[39m*\u001b[39m\u001b[39m*\u001b[39m({\u001b[39m\"\u001b[39m\u001b[39mdata\u001b[39m\u001b[39m\"\u001b[39m: data} \u001b[39mif\u001b[39;00m data \u001b[39mis\u001b[39;00m \u001b[39mnot\u001b[39;00m \u001b[39mNone\u001b[39;00m \u001b[39melse\u001b[39;00m {}), \u001b[39m*\u001b[39m\u001b[39m*\u001b[39mkwargs)\n\u001b[0;32m   2812\u001b[0m     sci(__ret)\n\u001b[0;32m   2813\u001b[0m     \u001b[39mreturn\u001b[39;00m __ret\n",
      "File \u001b[1;32mc:\\Users\\Ahmed\\anaconda3\\lib\\site-packages\\matplotlib\\__init__.py:1412\u001b[0m, in \u001b[0;36m_preprocess_data.<locals>.inner\u001b[1;34m(ax, data, *args, **kwargs)\u001b[0m\n\u001b[0;32m   1409\u001b[0m \u001b[39m@functools\u001b[39m\u001b[39m.\u001b[39mwraps(func)\n\u001b[0;32m   1410\u001b[0m \u001b[39mdef\u001b[39;00m \u001b[39minner\u001b[39m(ax, \u001b[39m*\u001b[39margs, data\u001b[39m=\u001b[39m\u001b[39mNone\u001b[39;00m, \u001b[39m*\u001b[39m\u001b[39m*\u001b[39mkwargs):\n\u001b[0;32m   1411\u001b[0m     \u001b[39mif\u001b[39;00m data \u001b[39mis\u001b[39;00m \u001b[39mNone\u001b[39;00m:\n\u001b[1;32m-> 1412\u001b[0m         \u001b[39mreturn\u001b[39;00m func(ax, \u001b[39m*\u001b[39m\u001b[39mmap\u001b[39m(sanitize_sequence, args), \u001b[39m*\u001b[39m\u001b[39m*\u001b[39mkwargs)\n\u001b[0;32m   1414\u001b[0m     bound \u001b[39m=\u001b[39m new_sig\u001b[39m.\u001b[39mbind(ax, \u001b[39m*\u001b[39margs, \u001b[39m*\u001b[39m\u001b[39m*\u001b[39mkwargs)\n\u001b[0;32m   1415\u001b[0m     auto_label \u001b[39m=\u001b[39m (bound\u001b[39m.\u001b[39marguments\u001b[39m.\u001b[39mget(label_namer)\n\u001b[0;32m   1416\u001b[0m                   \u001b[39mor\u001b[39;00m bound\u001b[39m.\u001b[39mkwargs\u001b[39m.\u001b[39mget(label_namer))\n",
      "File \u001b[1;32mc:\\Users\\Ahmed\\anaconda3\\lib\\site-packages\\matplotlib\\axes\\_axes.py:4369\u001b[0m, in \u001b[0;36mAxes.scatter\u001b[1;34m(self, x, y, s, c, marker, cmap, norm, vmin, vmax, alpha, linewidths, edgecolors, plotnonfinite, **kwargs)\u001b[0m\n\u001b[0;32m   4367\u001b[0m y \u001b[39m=\u001b[39m np\u001b[39m.\u001b[39mma\u001b[39m.\u001b[39mravel(y)\n\u001b[0;32m   4368\u001b[0m \u001b[39mif\u001b[39;00m x\u001b[39m.\u001b[39msize \u001b[39m!=\u001b[39m y\u001b[39m.\u001b[39msize:\n\u001b[1;32m-> 4369\u001b[0m     \u001b[39mraise\u001b[39;00m \u001b[39mValueError\u001b[39;00m(\u001b[39m\"\u001b[39m\u001b[39mx and y must be the same size\u001b[39m\u001b[39m\"\u001b[39m)\n\u001b[0;32m   4371\u001b[0m \u001b[39mif\u001b[39;00m s \u001b[39mis\u001b[39;00m \u001b[39mNone\u001b[39;00m:\n\u001b[0;32m   4372\u001b[0m     s \u001b[39m=\u001b[39m (\u001b[39m20\u001b[39m \u001b[39mif\u001b[39;00m rcParams[\u001b[39m'\u001b[39m\u001b[39m_internal.classic_mode\u001b[39m\u001b[39m'\u001b[39m] \u001b[39melse\u001b[39;00m\n\u001b[0;32m   4373\u001b[0m          rcParams[\u001b[39m'\u001b[39m\u001b[39mlines.markersize\u001b[39m\u001b[39m'\u001b[39m] \u001b[39m*\u001b[39m\u001b[39m*\u001b[39m \u001b[39m2.0\u001b[39m)\n",
      "\u001b[1;31mValueError\u001b[0m: x and y must be the same size"
     ]
    },
    {
     "data": {
      "image/png": "[encoded data removed]",
      "text/plain": [
       "<Figure size 432x288 with 1 Axes>"
      ]
     },
     "metadata": {
      "needs_background": "light"
     },
     "output_type": "display_data"
    }
   ],
   "source": [
    "# plt.scatter(x_test,y_test,color='k')\n",
    "# plt.plot(x_test,predictions,color='b')\n",
    "# plt.show()"
   ]
  }
 ],
 "metadata": {
  "kernelspec": {
   "display_name": "Python 3.9.12 ('base')",
   "language": "python",
   "name": "python3"
  },
  "language_info": {
   "codemirror_mode": {
    "name": "ipython",
    "version": 3
   },
   "file_extension": ".py",
   "mimetype": "text/x-python",
   "name": "python",
   "nbconvert_exporter": "python",
   "pygments_lexer": "ipython3",
   "version": "3.9.12"
  },
  "orig_nbformat": 4,
  "vscode": {
   "interpreter": {
    "hash": "4bd93d3e2369d766c292c7e8ea7d09dce32c9fd58b032bc2b1ce8b9b4c153d23"
   }
  }
 },
 "nbformat": 4,
 "nbformat_minor": 2
}
