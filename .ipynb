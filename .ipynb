{
 "cells": [
  {
   "attachments": {},
   "cell_type": "markdown",
   "metadata": {},
   "source": [
    "# Video Game Sales with Ratings\n",
    "## About Dataset\n",
    "### Context\n",
    "Motivated by Gregory Smith's web scrape of VGChartz Video Games Sales, this data set simply extends the number of variables with another web scrape from Metacritic. Metacritic is a website that aggregates reviews of films, TV shows, music albums, video games and formerly, books. For each product, the scores from each review are averaged. Unfortunately, there are missing observations as Metacritic only covers a subset of the platforms. Also, a game may not have all the observations of the additional variables discussed below. Complete cases are ~ 6,900\n",
    "### Content\n",
    "\n",
    "Alongside the fields: Name, Platform, YearofRelease, Genre, Publisher, NASales, EUSales, JPSales, OtherSales, Global_Sales, we have:-\n",
    "\n",
    "    Critic_score - Aggregate score compiled by Metacritic staff\n",
    "    Criticcount - The number of critics used in coming up with the Criticscore\n",
    "    User_score - Score by Metacritic's subscribers\n",
    "    Usercount - Number of users who gave the userscore\n",
    "    Developer - Party responsible for creating the game\n",
    "    Rating - The ESRB ratings\n",
    "\n",
    "\n",
    "About Dataset\n",
    "\n",
    "The dataset contains the total population and urban population for each year (1951 - 2020) as well as the population growth rate as a percentage. The dataset can be used to study population trends and understand how the global population has changed over time.\n",
    "\n",
    "Tabular data includes:\n",
    "\n",
    "    year\n",
    "    population\n",
    "    yearly_growth_percentage\n",
    "    yearly_growth\n",
    "    pop_density_km2\n",
    "    urban_population\n",
    "    urban_population_percentage\n"
   ]
  },
  {
   "attachments": {},
   "cell_type": "markdown",
   "metadata": {},
   "source": [
    "### Data Frame"
   ]
  },
  {
   "cell_type": "code",
   "execution_count": 15,
   "metadata": {
    "dotnet_interactive": {
     "language": "csharp"
    }
   },
   "outputs": [
    {
     "data": {
      "text/html": [
       "<div>\n",
       "<style scoped>\n",
       "    .dataframe tbody tr th:only-of-type {\n",
       "        vertical-align: middle;\n",
       "    }\n",
       "\n",
       "    .dataframe tbody tr th {\n",
       "        vertical-align: top;\n",
       "    }\n",
       "\n",
       "    .dataframe thead th {\n",
       "        text-align: right;\n",
       "    }\n",
       "</style>\n",
       "<table border=\"1\" class=\"dataframe\">\n",
       "  <thead>\n",
       "    <tr style=\"text-align: right;\">\n",
       "      <th></th>\n",
       "      <th>year</th>\n",
       "      <th>population</th>\n",
       "      <th>yearly_growth_percentage</th>\n",
       "      <th>yearly_growth</th>\n",
       "      <th>pop_density_km2</th>\n",
       "      <th>urban_population</th>\n",
       "      <th>urban_population_percentage</th>\n",
       "    </tr>\n",
       "  </thead>\n",
       "  <tbody>\n",
       "    <tr>\n",
       "      <th>3</th>\n",
       "      <td>1954</td>\n",
       "      <td>2724846741</td>\n",
       "      <td>1.76%</td>\n",
       "      <td>47237781</td>\n",
       "      <td>18</td>\n",
       "      <td>850179106</td>\n",
       "      <td>31%</td>\n",
       "    </tr>\n",
       "    <tr>\n",
       "      <th>55</th>\n",
       "      <td>2006</td>\n",
       "      <td>6623518000</td>\n",
       "      <td>1.25%</td>\n",
       "      <td>81611000</td>\n",
       "      <td>44</td>\n",
       "      <td>3289446000</td>\n",
       "      <td>50%</td>\n",
       "    </tr>\n",
       "    <tr>\n",
       "      <th>57</th>\n",
       "      <td>2008</td>\n",
       "      <td>6789089000</td>\n",
       "      <td>1.24%</td>\n",
       "      <td>83142000</td>\n",
       "      <td>46</td>\n",
       "      <td>3439719000</td>\n",
       "      <td>50%</td>\n",
       "    </tr>\n",
       "    <tr>\n",
       "      <th>40</th>\n",
       "      <td>1991</td>\n",
       "      <td>5414289444</td>\n",
       "      <td>1.63%</td>\n",
       "      <td>87058383</td>\n",
       "      <td>36</td>\n",
       "      <td>2347462336</td>\n",
       "      <td>43%</td>\n",
       "    </tr>\n",
       "    <tr>\n",
       "      <th>43</th>\n",
       "      <td>1994</td>\n",
       "      <td>5663150427</td>\n",
       "      <td>1.46%</td>\n",
       "      <td>81552881</td>\n",
       "      <td>38</td>\n",
       "      <td>2518254111</td>\n",
       "      <td>44%</td>\n",
       "    </tr>\n",
       "  </tbody>\n",
       "</table>\n",
       "</div>"
      ],
      "text/plain": [
       "    year  population yearly_growth_percentage  yearly_growth  pop_density_km2  \\\n",
       "3   1954  2724846741                    1.76%       47237781               18   \n",
       "55  2006  6623518000                    1.25%       81611000               44   \n",
       "57  2008  6789089000                    1.24%       83142000               46   \n",
       "40  1991  5414289444                    1.63%       87058383               36   \n",
       "43  1994  5663150427                    1.46%       81552881               38   \n",
       "\n",
       "    urban_population urban_population_percentage  \n",
       "3          850179106                         31%  \n",
       "55        3289446000                         50%  \n",
       "57        3439719000                         50%  \n",
       "40        2347462336                         43%  \n",
       "43        2518254111                         44%  "
      ]
     },
     "execution_count": 15,
     "metadata": {},
     "output_type": "execute_result"
    }
   ],
   "source": [
    "import pandas as pd\n",
    "df = pd.read_csv('world-population.csv')\n",
    "df.sample(5)"
   ]
  },
  {
   "attachments": {},
   "cell_type": "markdown",
   "metadata": {},
   "source": [
    "### Preprocessing"
   ]
  },
  {
   "cell_type": "code",
   "execution_count": 20,
   "metadata": {},
   "outputs": [
    {
     "name": "stdout",
     "output_type": "stream",
     "text": [
      "True    70\n",
      "Name: year, dtype: int64\n",
      "True    70\n",
      "Name: population, dtype: int64\n",
      "True    70\n",
      "Name: yearly_growth, dtype: int64\n",
      "False    70\n",
      "Name: yearly_growth_percentage, dtype: int64\n",
      "True    70\n",
      "Name: pop_density_km2, dtype: int64\n"
     ]
    }
   ],
   "source": [
    "# Find out the number of values which are not numeric\n",
    "print(df['year'].astype(str).str.isnumeric().value_counts())\n",
    "print(df['population'].astype(str).str.isnumeric().value_counts())\n",
    "print(df['yearly_growth'].astype(str).str.isnumeric().value_counts())\n",
    "print(df['yearly_growth_percentage'].astype(str).str.isnumeric().value_counts())\n",
    "print(df['pop_density_km2'].astype(str).str.isnumeric().value_counts())\n",
    "# Hi"
   ]
  },
  {
   "cell_type": "code",
   "execution_count": 34,
   "metadata": {},
   "outputs": [
    {
     "data": {
      "text/plain": [
       "0     1.88\n",
       "1     1.81\n",
       "2     1.78\n",
       "3     1.76\n",
       "4     1.77\n",
       "      ... \n",
       "65    1.14\n",
       "66    1.12\n",
       "67    1.10\n",
       "68    1.08\n",
       "69    1.05\n",
       "Name: yearly_growth_percentage, Length: 70, dtype: object"
      ]
     },
     "execution_count": 34,
     "metadata": {},
     "output_type": "execute_result"
    }
   ],
   "source": [
    "\n",
    "def removePercentage(d):\n",
    "      return d[:-1]\n",
    "df['yearly_growth_percentage'].apply(removePercentage)"
   ]
  }
 ],
 "metadata": {
  "kernelspec": {
   "display_name": "Python 3.9.12 ('base')",
   "language": "python",
   "name": "python3"
  },
  "language_info": {
   "codemirror_mode": {
    "name": "ipython",
    "version": 3
   },
   "file_extension": ".py",
   "mimetype": "text/x-python",
   "name": "python",
   "nbconvert_exporter": "python",
   "pygments_lexer": "ipython3",
   "version": "3.9.12"
  },
  "orig_nbformat": 4,
  "vscode": {
   "interpreter": {
    "hash": "4bd93d3e2369d766c292c7e8ea7d09dce32c9fd58b032bc2b1ce8b9b4c153d23"
   }
  }
 },
 "nbformat": 4,
 "nbformat_minor": 2
}
