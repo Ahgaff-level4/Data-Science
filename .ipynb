{
 "cells": [
  {
   "attachments": {},
   "cell_type": "markdown",
   "metadata": {},
   "source": [
    "## Global Annual Population Growth (1951 - 2020)\n",
    "\n",
    "### About Dataset\n",
    "\n",
    "The dataset contains the total population and urban population for each year (1951 - 2020) as well as the population growth rate as a percentage. The dataset can be used to study population trends and understand how the global population has changed over time.\n",
    "\n",
    "### Tabular data includes:\n",
    "\n",
    "    year\n",
    "    population\n",
    "    yearly_growth_percentage\n",
    "    yearly_growth\n",
    "    pop_density_km2\n",
    "    urban_population\n",
    "    urban_population_percentage\n"
   ]
  },
  {
   "cell_type": "code",
   "execution_count": 310,
   "metadata": {},
   "outputs": [],
   "source": [
    "import pandas as pd\n",
    "import numpy as np\n",
    "import matplotlib.pyplot as plt\n",
    "import seaborn as sns\n",
    "from sklearn import linear_model\n",
    "from sklearn import preprocessing\n",
    "from sklearn.model_selection import train_test_split\n",
    "from sklearn.linear_model import LinearRegression"
   ]
  },
  {
   "attachments": {},
   "cell_type": "markdown",
   "metadata": {},
   "source": [
    "### Data Frame"
   ]
  },
  {
   "cell_type": "code",
   "execution_count": 311,
   "metadata": {
    "dotnet_interactive": {
     "language": "csharp"
    }
   },
   "outputs": [
    {
     "data": {
      "text/html": [
       "<div>\n",
       "<style scoped>\n",
       "    .dataframe tbody tr th:only-of-type {\n",
       "        vertical-align: middle;\n",
       "    }\n",
       "\n",
       "    .dataframe tbody tr th {\n",
       "        vertical-align: top;\n",
       "    }\n",
       "\n",
       "    .dataframe thead th {\n",
       "        text-align: right;\n",
       "    }\n",
       "</style>\n",
       "<table border=\"1\" class=\"dataframe\">\n",
       "  <thead>\n",
       "    <tr style=\"text-align: right;\">\n",
       "      <th></th>\n",
       "      <th>year</th>\n",
       "      <th>population</th>\n",
       "      <th>yearly_growth_percentage</th>\n",
       "      <th>yearly_growth</th>\n",
       "      <th>pop_density_km2</th>\n",
       "      <th>urban_population</th>\n",
       "      <th>urban_population_percentage</th>\n",
       "    </tr>\n",
       "  </thead>\n",
       "  <tbody>\n",
       "    <tr>\n",
       "      <th>44</th>\n",
       "      <td>1995</td>\n",
       "      <td>5744212979</td>\n",
       "      <td>1.43%</td>\n",
       "      <td>81062552</td>\n",
       "      <td>39</td>\n",
       "      <td>2575505235</td>\n",
       "      <td>45%</td>\n",
       "    </tr>\n",
       "    <tr>\n",
       "      <th>53</th>\n",
       "      <td>2004</td>\n",
       "      <td>6461159000</td>\n",
       "      <td>1.25%</td>\n",
       "      <td>79974000</td>\n",
       "      <td>43</td>\n",
       "      <td>3143045000</td>\n",
       "      <td>48%</td>\n",
       "    </tr>\n",
       "    <tr>\n",
       "      <th>11</th>\n",
       "      <td>1962</td>\n",
       "      <td>3150420795</td>\n",
       "      <td>1.89%</td>\n",
       "      <td>58577288</td>\n",
       "      <td>21</td>\n",
       "      <td>1088376703</td>\n",
       "      <td>35%</td>\n",
       "    </tr>\n",
       "    <tr>\n",
       "      <th>30</th>\n",
       "      <td>1981</td>\n",
       "      <td>4536996762</td>\n",
       "      <td>1.77%</td>\n",
       "      <td>78993248</td>\n",
       "      <td>30</td>\n",
       "      <td>1804215203</td>\n",
       "      <td>40%</td>\n",
       "    </tr>\n",
       "    <tr>\n",
       "      <th>9</th>\n",
       "      <td>1960</td>\n",
       "      <td>3034949748</td>\n",
       "      <td>1.86%</td>\n",
       "      <td>55373563</td>\n",
       "      <td>20</td>\n",
       "      <td>1023845517</td>\n",
       "      <td>34%</td>\n",
       "    </tr>\n",
       "  </tbody>\n",
       "</table>\n",
       "</div>"
      ],
      "text/plain": [
       "    year  population yearly_growth_percentage  yearly_growth  pop_density_km2  \\\n",
       "44  1995  5744212979                    1.43%       81062552               39   \n",
       "53  2004  6461159000                    1.25%       79974000               43   \n",
       "11  1962  3150420795                    1.89%       58577288               21   \n",
       "30  1981  4536996762                    1.77%       78993248               30   \n",
       "9   1960  3034949748                    1.86%       55373563               20   \n",
       "\n",
       "    urban_population urban_population_percentage  \n",
       "44        2575505235                         45%  \n",
       "53        3143045000                         48%  \n",
       "11        1088376703                         35%  \n",
       "30        1804215203                         40%  \n",
       "9         1023845517                         34%  "
      ]
     },
     "execution_count": 311,
     "metadata": {},
     "output_type": "execute_result"
    }
   ],
   "source": [
    "df = pd.read_csv('world-population.csv')\n",
    "df.sample(5)"
   ]
  },
  {
   "attachments": {},
   "cell_type": "markdown",
   "metadata": {},
   "source": [
    "### Preprocessing"
   ]
  },
  {
   "cell_type": "code",
   "execution_count": 312,
   "metadata": {},
   "outputs": [
    {
     "name": "stdout",
     "output_type": "stream",
     "text": [
      "<class 'pandas.core.frame.DataFrame'>\n",
      "RangeIndex: 70 entries, 0 to 69\n",
      "Data columns (total 7 columns):\n",
      " #   Column                       Non-Null Count  Dtype \n",
      "---  ------                       --------------  ----- \n",
      " 0   year                         70 non-null     int64 \n",
      " 1   population                   70 non-null     int64 \n",
      " 2   yearly_growth_percentage     70 non-null     object\n",
      " 3   yearly_growth                70 non-null     int64 \n",
      " 4   pop_density_km2              70 non-null     int64 \n",
      " 5   urban_population             70 non-null     int64 \n",
      " 6   urban_population_percentage  70 non-null     object\n",
      "dtypes: int64(5), object(2)\n",
      "memory usage: 4.0+ KB\n"
     ]
    }
   ],
   "source": [
    "df.info()"
   ]
  },
  {
   "cell_type": "code",
   "execution_count": 313,
   "metadata": {},
   "outputs": [
    {
     "name": "stdout",
     "output_type": "stream",
     "text": [
      "True    70\n",
      "Name: year, dtype: int64\n",
      "True    70\n",
      "Name: population, dtype: int64\n",
      "True    70\n",
      "Name: yearly_growth, dtype: int64\n",
      "False    70\n",
      "Name: yearly_growth_percentage, dtype: int64\n",
      "True    70\n",
      "Name: pop_density_km2, dtype: int64\n"
     ]
    }
   ],
   "source": [
    "# Find out the number of values which are not numeric\n",
    "print(df['year'].astype(str).str.isnumeric().value_counts())\n",
    "print(df['population'].astype(str).str.isnumeric().value_counts())\n",
    "print(df['yearly_growth'].astype(str).str.isnumeric().value_counts())\n",
    "print(df['yearly_growth_percentage'].astype(str).str.isnumeric().value_counts())\n",
    "print(df['pop_density_km2'].astype(str).str.isnumeric().value_counts())"
   ]
  },
  {
   "cell_type": "code",
   "execution_count": 314,
   "metadata": {},
   "outputs": [
    {
     "data": {
      "text/html": [
       "<div>\n",
       "<style scoped>\n",
       "    .dataframe tbody tr th:only-of-type {\n",
       "        vertical-align: middle;\n",
       "    }\n",
       "\n",
       "    .dataframe tbody tr th {\n",
       "        vertical-align: top;\n",
       "    }\n",
       "\n",
       "    .dataframe thead th {\n",
       "        text-align: right;\n",
       "    }\n",
       "</style>\n",
       "<table border=\"1\" class=\"dataframe\">\n",
       "  <thead>\n",
       "    <tr style=\"text-align: right;\">\n",
       "      <th></th>\n",
       "      <th>year</th>\n",
       "      <th>population</th>\n",
       "      <th>yearly_growth_percentage</th>\n",
       "      <th>yearly_growth</th>\n",
       "      <th>pop_density_km2</th>\n",
       "      <th>urban_population</th>\n",
       "      <th>urban_population_percentage</th>\n",
       "    </tr>\n",
       "  </thead>\n",
       "  <tbody>\n",
       "    <tr>\n",
       "      <th>0</th>\n",
       "      <td>1951</td>\n",
       "      <td>2584034261</td>\n",
       "      <td>0.0188</td>\n",
       "      <td>47603112</td>\n",
       "      <td>17</td>\n",
       "      <td>775067697</td>\n",
       "      <td>0.30</td>\n",
       "    </tr>\n",
       "    <tr>\n",
       "      <th>1</th>\n",
       "      <td>1952</td>\n",
       "      <td>2630861562</td>\n",
       "      <td>0.0181</td>\n",
       "      <td>46827301</td>\n",
       "      <td>18</td>\n",
       "      <td>799282533</td>\n",
       "      <td>0.30</td>\n",
       "    </tr>\n",
       "    <tr>\n",
       "      <th>2</th>\n",
       "      <td>1953</td>\n",
       "      <td>2677608960</td>\n",
       "      <td>0.0178</td>\n",
       "      <td>46747398</td>\n",
       "      <td>18</td>\n",
       "      <td>824289989</td>\n",
       "      <td>0.31</td>\n",
       "    </tr>\n",
       "    <tr>\n",
       "      <th>3</th>\n",
       "      <td>1954</td>\n",
       "      <td>2724846741</td>\n",
       "      <td>0.0176</td>\n",
       "      <td>47237781</td>\n",
       "      <td>18</td>\n",
       "      <td>850179106</td>\n",
       "      <td>0.31</td>\n",
       "    </tr>\n",
       "    <tr>\n",
       "      <th>4</th>\n",
       "      <td>1955</td>\n",
       "      <td>2773019936</td>\n",
       "      <td>0.0177</td>\n",
       "      <td>48173195</td>\n",
       "      <td>19</td>\n",
       "      <td>877008842</td>\n",
       "      <td>0.32</td>\n",
       "    </tr>\n",
       "    <tr>\n",
       "      <th>...</th>\n",
       "      <td>...</td>\n",
       "      <td>...</td>\n",
       "      <td>...</td>\n",
       "      <td>...</td>\n",
       "      <td>...</td>\n",
       "      <td>...</td>\n",
       "      <td>...</td>\n",
       "    </tr>\n",
       "    <tr>\n",
       "      <th>65</th>\n",
       "      <td>2016</td>\n",
       "      <td>7464022000</td>\n",
       "      <td>0.0114</td>\n",
       "      <td>84225000</td>\n",
       "      <td>50</td>\n",
       "      <td>4060653000</td>\n",
       "      <td>0.54</td>\n",
       "    </tr>\n",
       "    <tr>\n",
       "      <th>66</th>\n",
       "      <td>2017</td>\n",
       "      <td>7547859000</td>\n",
       "      <td>0.0112</td>\n",
       "      <td>83837000</td>\n",
       "      <td>51</td>\n",
       "      <td>4140189000</td>\n",
       "      <td>0.55</td>\n",
       "    </tr>\n",
       "    <tr>\n",
       "      <th>67</th>\n",
       "      <td>2018</td>\n",
       "      <td>7631091000</td>\n",
       "      <td>0.0110</td>\n",
       "      <td>83232000</td>\n",
       "      <td>51</td>\n",
       "      <td>4219817000</td>\n",
       "      <td>0.55</td>\n",
       "    </tr>\n",
       "    <tr>\n",
       "      <th>68</th>\n",
       "      <td>2019</td>\n",
       "      <td>7713468000</td>\n",
       "      <td>0.0108</td>\n",
       "      <td>82377000</td>\n",
       "      <td>52</td>\n",
       "      <td>4299439000</td>\n",
       "      <td>0.56</td>\n",
       "    </tr>\n",
       "    <tr>\n",
       "      <th>69</th>\n",
       "      <td>2020</td>\n",
       "      <td>7795000000</td>\n",
       "      <td>0.0105</td>\n",
       "      <td>81331000</td>\n",
       "      <td>52</td>\n",
       "      <td>4378900000</td>\n",
       "      <td>0.56</td>\n",
       "    </tr>\n",
       "  </tbody>\n",
       "</table>\n",
       "<p>70 rows × 7 columns</p>\n",
       "</div>"
      ],
      "text/plain": [
       "    year  population  yearly_growth_percentage  yearly_growth  \\\n",
       "0   1951  2584034261                    0.0188       47603112   \n",
       "1   1952  2630861562                    0.0181       46827301   \n",
       "2   1953  2677608960                    0.0178       46747398   \n",
       "3   1954  2724846741                    0.0176       47237781   \n",
       "4   1955  2773019936                    0.0177       48173195   \n",
       "..   ...         ...                       ...            ...   \n",
       "65  2016  7464022000                    0.0114       84225000   \n",
       "66  2017  7547859000                    0.0112       83837000   \n",
       "67  2018  7631091000                    0.0110       83232000   \n",
       "68  2019  7713468000                    0.0108       82377000   \n",
       "69  2020  7795000000                    0.0105       81331000   \n",
       "\n",
       "    pop_density_km2  urban_population  urban_population_percentage  \n",
       "0                17         775067697                         0.30  \n",
       "1                18         799282533                         0.30  \n",
       "2                18         824289989                         0.31  \n",
       "3                18         850179106                         0.31  \n",
       "4                19         877008842                         0.32  \n",
       "..              ...               ...                          ...  \n",
       "65               50        4060653000                         0.54  \n",
       "66               51        4140189000                         0.55  \n",
       "67               51        4219817000                         0.55  \n",
       "68               52        4299439000                         0.56  \n",
       "69               52        4378900000                         0.56  \n",
       "\n",
       "[70 rows x 7 columns]"
      ]
     },
     "execution_count": 314,
     "metadata": {},
     "output_type": "execute_result"
    }
   ],
   "source": [
    "#remove \"%\" to make convert to number\n",
    "def removePercentage(d):\n",
    "      return float(d[:-1])/100\n",
    "df['yearly_growth_percentage']= df['yearly_growth_percentage'].apply(removePercentage)\n",
    "df['urban_population_percentage']= df['urban_population_percentage'].apply(removePercentage)\n",
    "df"
   ]
  },
  {
   "attachments": {},
   "cell_type": "markdown",
   "metadata": {},
   "source": [
    "### Visualization"
   ]
  },
  {
   "cell_type": "code",
   "execution_count": null,
   "metadata": {},
   "outputs": [],
   "source": []
  },
  {
   "cell_type": "code",
   "execution_count": 315,
   "metadata": {},
   "outputs": [
    {
     "data": {
      "image/png": "[encoded data removed]",
      "text/plain": [
       "<Figure size 1800x720 with 1 Axes>"
      ]
     },
     "metadata": {
      "needs_background": "light"
     },
     "output_type": "display_data"
    }
   ],
   "source": [
    "plt.rcParams['figure.figsize'] = (25, 10)\n",
    "ax = sns.barplot(x = df['year'], y = df['population'],palette='dark')\n",
    "ax.set_xlabel(xlabel = 'Year', fontsize = 25)\n",
    "ax.set_ylabel(ylabel = 'Population in Billion', fontsize = 25)\n",
    "ax.set_title(label = 'Population Growth', fontsize = 35)\n",
    "plt.xticks(rotation = 90,fontsize=18)\n",
    "plt.yticks(fontsize=20)\n",
    "plt.show()"
   ]
  },
  {
   "cell_type": "code",
   "execution_count": 316,
   "metadata": {},
   "outputs": [
    {
     "data": {
      "image/png": "[encoded data removed]",
      "text/plain": [
       "<Figure size 1800x720 with 1 Axes>"
      ]
     },
     "metadata": {
      "needs_background": "light"
     },
     "output_type": "display_data"
    }
   ],
   "source": [
    "plt.rcParams['figure.figsize'] = (25, 10)\n",
    "ax = sns.barplot(x = df['year'], y = df['yearly_growth'],palette='dark')\n",
    "ax.set_xlabel(xlabel = 'Year', fontsize = 25)\n",
    "ax.set_ylabel(ylabel = 'Population in Billion', fontsize = 25)\n",
    "ax.set_title(label = 'Population Yearly Growth', fontsize = 35)\n",
    "plt.xticks(rotation = 90,fontsize=18)\n",
    "plt.yticks(fontsize=20)\n",
    "plt.show()"
   ]
  },
  {
   "attachments": {},
   "cell_type": "markdown",
   "metadata": {},
   "source": [
    "### Descriptive Analytic"
   ]
  },
  {
   "cell_type": "code",
   "execution_count": 317,
   "metadata": {},
   "outputs": [
    {
     "data": {
      "text/plain": [
       "1.6164285714285715"
      ]
     },
     "execution_count": 317,
     "metadata": {},
     "output_type": "execute_result"
    }
   ],
   "source": [
    "#Population average growth over the years in percentage\n",
    "np.mean(df['yearly_growth_percentage'])*100"
   ]
  },
  {
   "attachments": {},
   "cell_type": "markdown",
   "metadata": {},
   "source": [
    "### Predict Analytic\n",
    "##### Why we use Linear Regression\n",
    "As the population of a country can take any values and not some selected discrete values we realize that this is a regression problem and not a classification problem. Linear Regression is one of the most basic algorithms of Machine Learning. This algorithm lets us predict numerical data. Hence we use Linear Regression to solve this problem."
   ]
  },
  {
   "attachments": {},
   "cell_type": "markdown",
   "metadata": {},
   "source": [
    "We normalize the data to scale. And to ease the prediction of growth rate with machine learning."
   ]
  },
  {
   "cell_type": "code",
   "execution_count": 339,
   "metadata": {},
   "outputs": [
    {
     "data": {
      "text/plain": [
       "array([[8.48383794e+09]])"
      ]
     },
     "execution_count": 339,
     "metadata": {},
     "output_type": "execute_result"
    }
   ],
   "source": [
    "yp = df[['year','population']]\n",
    "yp\n",
    "x = yp.iloc[:, 0].values.reshape(-1, 1)\n",
    "y = yp.iloc[:, 1].values.reshape(-1, 1)\n",
    "model = LinearRegression().fit(x, y)\n",
    "predict_population = model.predict([[2024]])\n",
    "y_pred"
   ]
  },
  {
   "attachments": {},
   "cell_type": "markdown",
   "metadata": {},
   "source": [
    "We create the model from the Linear regression library\n",
    "And fit (train) our test data into the model"
   ]
  },
  {
   "cell_type": "code",
   "execution_count": 319,
   "metadata": {},
   "outputs": [
    {
     "data": {
      "text/plain": [
       "array([5.14118579e+09, 5.14118579e+09, 5.14118579e+09, 5.14118579e+09,\n",
       "       5.14118579e+09, 5.14118579e+09, 5.14118579e+09, 5.14118579e+09,\n",
       "       5.14118579e+09, 5.14118579e+09, 5.14118579e+09, 5.14118579e+09,\n",
       "       5.14118579e+09, 5.14118579e+09, 5.14118579e+09, 5.14118579e+09,\n",
       "       5.14118579e+09, 5.14118579e+09, 5.14118579e+09, 5.14118579e+09,\n",
       "       5.14118579e+09])"
      ]
     },
     "execution_count": 319,
     "metadata": {},
     "output_type": "execute_result"
    }
   ],
   "source": [
    "lm = LinearRegression()\n",
    "lm.fit(x_train,y_train)# train\n",
    "predictions = lm.predict(x_test)# predict\n",
    "predictions"
   ]
  },
  {
   "attachments": {},
   "cell_type": "markdown",
   "metadata": {},
   "source": [
    "Now to see the accuracy of our model we will use the tools of Mean Squared Error and Mean Absolute Error."
   ]
  },
  {
   "cell_type": "code",
   "execution_count": 327,
   "metadata": {},
   "outputs": [
    {
     "data": {
      "text/html": [
       "<div>\n",
       "<style scoped>\n",
       "    .dataframe tbody tr th:only-of-type {\n",
       "        vertical-align: middle;\n",
       "    }\n",
       "\n",
       "    .dataframe tbody tr th {\n",
       "        vertical-align: top;\n",
       "    }\n",
       "\n",
       "    .dataframe thead th {\n",
       "        text-align: right;\n",
       "    }\n",
       "</style>\n",
       "<table border=\"1\" class=\"dataframe\">\n",
       "  <thead>\n",
       "    <tr style=\"text-align: right;\">\n",
       "      <th></th>\n",
       "      <th>year</th>\n",
       "      <th>population</th>\n",
       "    </tr>\n",
       "  </thead>\n",
       "  <tbody>\n",
       "    <tr>\n",
       "      <th>0</th>\n",
       "      <td>1951</td>\n",
       "      <td>2584034261</td>\n",
       "    </tr>\n",
       "    <tr>\n",
       "      <th>1</th>\n",
       "      <td>1952</td>\n",
       "      <td>2630861562</td>\n",
       "    </tr>\n",
       "    <tr>\n",
       "      <th>2</th>\n",
       "      <td>1953</td>\n",
       "      <td>2677608960</td>\n",
       "    </tr>\n",
       "    <tr>\n",
       "      <th>3</th>\n",
       "      <td>1954</td>\n",
       "      <td>2724846741</td>\n",
       "    </tr>\n",
       "    <tr>\n",
       "      <th>4</th>\n",
       "      <td>1955</td>\n",
       "      <td>2773019936</td>\n",
       "    </tr>\n",
       "    <tr>\n",
       "      <th>...</th>\n",
       "      <td>...</td>\n",
       "      <td>...</td>\n",
       "    </tr>\n",
       "    <tr>\n",
       "      <th>65</th>\n",
       "      <td>2016</td>\n",
       "      <td>7464022000</td>\n",
       "    </tr>\n",
       "    <tr>\n",
       "      <th>66</th>\n",
       "      <td>2017</td>\n",
       "      <td>7547859000</td>\n",
       "    </tr>\n",
       "    <tr>\n",
       "      <th>67</th>\n",
       "      <td>2018</td>\n",
       "      <td>7631091000</td>\n",
       "    </tr>\n",
       "    <tr>\n",
       "      <th>68</th>\n",
       "      <td>2019</td>\n",
       "      <td>7713468000</td>\n",
       "    </tr>\n",
       "    <tr>\n",
       "      <th>69</th>\n",
       "      <td>2020</td>\n",
       "      <td>7795000000</td>\n",
       "    </tr>\n",
       "  </tbody>\n",
       "</table>\n",
       "<p>70 rows × 2 columns</p>\n",
       "</div>"
      ],
      "text/plain": [
       "    year  population\n",
       "0   1951  2584034261\n",
       "1   1952  2630861562\n",
       "2   1953  2677608960\n",
       "3   1954  2724846741\n",
       "4   1955  2773019936\n",
       "..   ...         ...\n",
       "65  2016  7464022000\n",
       "66  2017  7547859000\n",
       "67  2018  7631091000\n",
       "68  2019  7713468000\n",
       "69  2020  7795000000\n",
       "\n",
       "[70 rows x 2 columns]"
      ]
     },
     "execution_count": 327,
     "metadata": {},
     "output_type": "execute_result"
    }
   ],
   "source": []
  }
 ],
 "metadata": {
  "kernelspec": {
   "display_name": "Python 3.9.12 ('base')",
   "language": "python",
   "name": "python3"
  },
  "language_info": {
   "codemirror_mode": {
    "name": "ipython",
    "version": 3
   },
   "file_extension": ".py",
   "mimetype": "text/x-python",
   "name": "python",
   "nbconvert_exporter": "python",
   "pygments_lexer": "ipython3",
   "version": "3.9.12"
  },
  "orig_nbformat": 4,
  "vscode": {
   "interpreter": {
    "hash": "4bd93d3e2369d766c292c7e8ea7d09dce32c9fd58b032bc2b1ce8b9b4c153d23"
   }
  }
 },
 "nbformat": 4,
 "nbformat_minor": 2
}
